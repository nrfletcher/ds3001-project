{
 "cells": [
  {
   "cell_type": "markdown",
   "id": "6b5923ea-c579-434e-a0e4-0cf9483eb168",
   "metadata": {},
   "source": [
    "1. What is an observation in your study?\n",
    "2. Are you doing supervised or unsupervised learning? Classification or regression?\n",
    "3. What models or algorithms do you plan to use in your analysis? How?\n",
    "4. How will you know if your approach 'works'? What does success mean?\n",
    "5. What are weaknesses you anticipate being an issue? How will you deal with them if they come up? If your approach fails, what might you learn from this unfortunate outcome?\n",
    "6. Feature Engineering: How will you prepare your data specifically for your analysis? For example, are there many variables that should be one-hot encoded? Do you have many correlated numeric variables, for which PCA may be a useful tool?\n",
    "7. Results: How will you communicate or present your results?"
   ]
  },
  {
   "cell_type": "code",
   "execution_count": null,
   "id": "9f9a18fe-df69-459a-8815-686aeb3bd2ab",
   "metadata": {},
   "outputs": [],
   "source": []
  }
 ],
 "metadata": {
  "kernelspec": {
   "display_name": "Python 3 (ipykernel)",
   "language": "python",
   "name": "python3"
  },
  "language_info": {
   "codemirror_mode": {
    "name": "ipython",
    "version": 3
   },
   "file_extension": ".py",
   "mimetype": "text/x-python",
   "name": "python",
   "nbconvert_exporter": "python",
   "pygments_lexer": "ipython3",
   "version": "3.12.1"
  }
 },
 "nbformat": 4,
 "nbformat_minor": 5
}
