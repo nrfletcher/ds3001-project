{
 "cells": [
  {
   "cell_type": "markdown",
   "id": "6b5923ea-c579-434e-a0e4-0cf9483eb168",
   "metadata": {},
   "source": [
    "1. What is an observation in your study? An observation in our study will be a particular movie and all of its corresponding data such as director, budget, cast, producer, and many other various factors.\n",
    "2. Are you doing supervised or unsupervised learning? Classification or regression? We will be using regression since the goal of our analysis is to predict the success of a movie based on known facts (such as budget, director, etc).\n",
    "3. What models or algorithms do you plan to use in your analysis? How? A multivariate linear regression. We may also employ ridge or lasso regressions as we develop our testing if we feel they better fit our data.\n",
    "4. How will you know if your approach 'works'? What does success mean? We will define the success of our approach as being able to correctly identify how much revenue a film will make. A ‘successful’ film in our analysis will be based on the financial success, so our model’s approach will be to predict the revenue of a film based on its characteristics.\n",
    "5. What are weaknesses you anticipate being an issue? How will you deal with them if they come up? If your approach fails, what might you learn from this unfortunate outcome? Mostly data quality. Missing and incomplete data in important columns like budget and revenue could lead to major issues. One possible way to deal with them could be to make reasonable estimates for missing columns by using averages or predictive models.\n",
    "6. Feature Engineering: How will you prepare your data specifically for your analysis? For example, are there many variables that should be one-hot encoded? Do you have many correlated numeric variables, for which PCA may be a useful tool? No, all of our data is already in the form of a numeric representation, including the director as our data set has a director ID column which we can use as a form of one-hot encoding built into the data set. PCA may be useful given we have a number of numeric variables which are related, such as revenue, budget, and popularity. \n",
    "7. Results: How will you communicate or present your results? We can communicate our results by presenting the R-squared values and regression coefficients to show how our model predicted the revenue made on films."
   ]
  },
  {
   "cell_type": "code",
   "execution_count": null,
   "id": "9f9a18fe-df69-459a-8815-686aeb3bd2ab",
   "metadata": {},
   "outputs": [],
   "source": []
  }
 ],
 "metadata": {
  "kernelspec": {
   "display_name": "Python 3 (ipykernel)",
   "language": "python",
   "name": "python3"
  },
  "language_info": {
   "codemirror_mode": {
    "name": "ipython",
    "version": 3
   },
   "file_extension": ".py",
   "mimetype": "text/x-python",
   "name": "python",
   "nbconvert_exporter": "python",
   "pygments_lexer": "ipython3",
   "version": "3.12.1"
  }
 },
 "nbformat": 4,
 "nbformat_minor": 5
}
