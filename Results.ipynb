{
  "nbformat": 4,
  "nbformat_minor": 0,
  "metadata": {
    "colab": {
      "provenance": []
    },
    "kernelspec": {
      "name": "python3",
      "display_name": "Python 3"
    },
    "language_info": {
      "name": "python"
    }
  },
  "cells": [
    {
      "cell_type": "code",
      "execution_count": null,
      "metadata": {
        "id": "8fTlgiyTyixk"
      },
      "outputs": [],
      "source": []
    },
    {
      "cell_type": "markdown",
      "source": [
        "Prof notes: Looks good!\n",
        "- I would start thinking about what is an \"outcome\" and what is a \"predictor\", and doing scatterplot or crosstabs to look for patterns\n",
        "- It sounds like the data require a lot of work and cleaning in order to parse out the star actors, the directors, etc. Some of the code from the PCA lab might be useful here.\n",
        "- LASSO might be a good fit because it will shrink lots of the one-hot-encoded variables towards zero. Then what you're left with will be the more powerful predictors of movie success.\n",
        "- Looking forward to seeing your results!\n",
        "\n",
        "\n",
        "1. State a clear prediction question, not just what you did. Asking clear questions is the key to getting clear answers. You don't need to pick a \"client\", but sometimes it's helpful to think about the hypothetical scenario in which, say, NOAA or FEMA or a hospital would use your model.\n",
        "\n",
        "2. Organize your discussion around two or three key tables or plots or numbers. Don't write up everything you did: Focus on your main result, and then add exposition around it until the reader is able to appreciate what you did and why. This keeps your writing from becoming bloated and rambling: Work backwards from the result to the reader's initial conditions.\n",
        "\n",
        "3. You can handle criticisms or concerns in the results section if they are relevant or interesting, but most probably belong in the conclusion.\n",
        "\n",
        "4. No pseudo-scientific word salad! If you write something, make it meaningful and interesting. Be clear. Make sure you know what you're talking about, or review the material to ensure you understand it.\n",
        "\n",
        "5. Don't write about things about which you have no data or did not analyze, unless you are citing someone else's work in relation to what you are doing.\n",
        "\n",
        "6. If you are tempted to make causal claims about a variable X causing Y, instead cast it as an explainability discussion. (e.g. \"In this model, as yacht ownership increases, predictions of life expectancy tend to increase as well, possibly reflecting an omitted variable bias between wealth and health.\" You can of course discuss how yacht ownership and life expectancy are related, but of course yachts don't per se cause longevity.)\n",
        "\n"
      ],
      "metadata": {
        "id": "cm0ibdVgzXZp"
      }
    }
  ]
}